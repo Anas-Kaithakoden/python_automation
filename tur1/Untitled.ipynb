{
 "cells": [
  {
   "cell_type": "markdown",
   "id": "fecf8b4d-97c2-48c9-a7e9-8265be5f2aa8",
   "metadata": {},
   "source": [
    "This is my first jupyter notebook"
   ]
  },
  {
   "cell_type": "code",
   "execution_count": 4,
   "id": "d3abc4e8-dbc1-4118-9209-64b4c7c7a186",
   "metadata": {},
   "outputs": [
    {
     "data": {
      "text/plain": [
       "6"
      ]
     },
     "execution_count": 4,
     "metadata": {},
     "output_type": "execute_result"
    }
   ],
   "source": [
    "3 + 3"
   ]
  },
  {
   "cell_type": "code",
   "execution_count": 5,
   "id": "fc53e7bb-931c-42f0-b208-d4169410a5b5",
   "metadata": {},
   "outputs": [],
   "source": [
    "import camelot\n",
    "\n"
   ]
  },
  {
   "cell_type": "code",
   "execution_count": 6,
   "id": "8c0a0ab4-38ad-4417-b5e7-ecbebba9daad",
   "metadata": {},
   "outputs": [],
   "source": [
    "data = camelot.read_pdf('fifa.pdf', pages='1')\n",
    "\n"
   ]
  },
  {
   "cell_type": "code",
   "execution_count": 7,
   "id": "472e3498-b46c-477a-ae3c-3b86805ae46d",
   "metadata": {},
   "outputs": [
    {
     "name": "stdout",
     "output_type": "stream",
     "text": [
      "                                           0                              1  \\\n",
      "0   FIFA World Cup Winners - Men [1930-2020]                                  \n",
      "1                                       Year  FIFA World Cup Host \\nNations   \n",
      "2                                       1930                        Uruguay   \n",
      "3                                       1934                          Italy   \n",
      "4                                       1938                         France   \n",
      "5                                       1950                         Brazil   \n",
      "6                                       1954                    Switzerland   \n",
      "7                                       1958                         Sweden   \n",
      "8                                       1962                          Chile   \n",
      "9                                       1966                        England   \n",
      "10                                      1970                         Mexico   \n",
      "11                                      1974                   West Germany   \n",
      "12                                      1978                      Argentina   \n",
      "13                                      1982                          Spain   \n",
      "14                                      1986                         Mexico   \n",
      "15                                      1990                          Italy   \n",
      "16                                      1994                            USA   \n",
      "17                                      1998                         France   \n",
      "18                                      2002              South Korea/Japan   \n",
      "19                                      2006                        Germany   \n",
      "20                                      2010                   South Africa   \n",
      "\n",
      "                                    2                      3  \n",
      "0                                                             \n",
      "1   FIFA World Cup Winner \\nCountries  Runner Up \\nCountries  \n",
      "2                             Uruguay              Argentina  \n",
      "3                               Italy         Czechoslovakia  \n",
      "4                               Italy                Hungary  \n",
      "5                             Uruguay                 Brazil  \n",
      "6                        West Germany                Hungary  \n",
      "7                              Brazil                 Sweden  \n",
      "8                              Brazil         Czechoslovakia  \n",
      "9                             England           West Germany  \n",
      "10                             Brazil                  Italy  \n",
      "11                       West Germany            Netherlands  \n",
      "12                          Argentina            Netherlands  \n",
      "13                              Italy           West Germany  \n",
      "14                          Argentina           West Germany  \n",
      "15                       West Germany              Argentina  \n",
      "16                             Brazil                  Italy  \n",
      "17                             France                 Brazil  \n",
      "18                             Brazil                Germany  \n",
      "19                              Italy                 France  \n",
      "20                              Spain            Netherlands  \n"
     ]
    }
   ],
   "source": [
    "print(data[0].df)"
   ]
  },
  {
   "cell_type": "code",
   "execution_count": null,
   "id": "caf7a4a0-c858-4f4c-8544-a26507c0c478",
   "metadata": {},
   "outputs": [],
   "source": []
  }
 ],
 "metadata": {
  "kernelspec": {
   "display_name": "Python 3 (ipykernel)",
   "language": "python",
   "name": "python3"
  },
  "language_info": {
   "codemirror_mode": {
    "name": "ipython",
    "version": 3
   },
   "file_extension": ".py",
   "mimetype": "text/x-python",
   "name": "python",
   "nbconvert_exporter": "python",
   "pygments_lexer": "ipython3",
   "version": "3.9.21"
  }
 },
 "nbformat": 4,
 "nbformat_minor": 5
}
